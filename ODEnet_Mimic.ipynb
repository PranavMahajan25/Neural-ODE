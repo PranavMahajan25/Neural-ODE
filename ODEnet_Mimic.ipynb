{
  "nbformat": 4,
  "nbformat_minor": 0,
  "metadata": {
    "colab": {
      "name": "ODEnet-Mimic.ipynb",
      "version": "0.3.2",
      "provenance": [],
      "collapsed_sections": [],
      "include_colab_link": true
    },
    "kernelspec": {
      "name": "python3",
      "display_name": "Python 3"
    },
    "accelerator": "GPU"
  },
  "cells": [
    {
      "cell_type": "markdown",
      "metadata": {
        "id": "view-in-github",
        "colab_type": "text"
      },
      "source": [
        "<a href=\"https://colab.research.google.com/github/PranavMahajan25/Neural-ODE/blob/master/ODEnet_Mimic.ipynb\" target=\"_parent\"><img src=\"https://colab.research.google.com/assets/colab-badge.svg\" alt=\"Open In Colab\"/></a>"
      ]
    },
    {
      "metadata": {
        "id": "NgkQnzWnfS6G",
        "colab_type": "text"
      },
      "cell_type": "markdown",
      "source": [
        "#Cloning the repo, setting up the lib"
      ]
    },
    {
      "metadata": {
        "id": "Jh-EVIFAclTi",
        "colab_type": "code",
        "outputId": "f01ce159-11f9-4263-ce14-70f3c92cff92",
        "colab": {
          "base_uri": "https://localhost:8080/",
          "height": 141
        }
      },
      "cell_type": "code",
      "source": [
        "!git clone https://github.com/rtqichen/torchdiffeq.git"
      ],
      "execution_count": 0,
      "outputs": [
        {
          "output_type": "stream",
          "text": [
            "Cloning into 'torchdiffeq'...\n",
            "remote: Enumerating objects: 18, done.\u001b[K\n",
            "remote: Counting objects: 100% (18/18), done.\u001b[K\n",
            "remote: Compressing objects: 100% (16/16), done.\u001b[K\n",
            "remote: Total 124 (delta 5), reused 10 (delta 2), pack-reused 106\u001b[K\n",
            "Receiving objects: 100% (124/124), 690.88 KiB | 2.71 MiB/s, done.\n",
            "Resolving deltas: 100% (45/45), done.\n"
          ],
          "name": "stdout"
        }
      ]
    },
    {
      "metadata": {
        "id": "UuT6L4lU8vYT",
        "colab_type": "code",
        "outputId": "e1a7fb87-8cbc-459b-a53b-f76d297dd3b1",
        "colab": {
          "base_uri": "https://localhost:8080/",
          "height": 105
        }
      },
      "cell_type": "code",
      "source": [
        "!cd torchdiffeq && pip install -e ."
      ],
      "execution_count": 0,
      "outputs": [
        {
          "output_type": "stream",
          "text": [
            "Obtaining file:///content/torchdiffeq\n",
            "Requirement already satisfied: torch>=0.4.1 in /usr/local/lib/python3.6/dist-packages (from torchdiffeq==0.0.1) (1.0.1.post2)\n",
            "Installing collected packages: torchdiffeq\n",
            "  Running setup.py develop for torchdiffeq\n",
            "Successfully installed torchdiffeq\n"
          ],
          "name": "stdout"
        }
      ]
    },
    {
      "metadata": {
        "id": "4h3hAwy29Rv3",
        "colab_type": "code",
        "outputId": "d4a5abdb-57f8-480a-b04a-8b6008f6836c",
        "colab": {
          "base_uri": "https://localhost:8080/",
          "height": 34
        }
      },
      "cell_type": "code",
      "source": [
        "!ls torchdiffeq/torchdiffeq"
      ],
      "execution_count": 0,
      "outputs": [
        {
          "output_type": "stream",
          "text": [
            "_impl  __init__.py\n"
          ],
          "name": "stdout"
        }
      ]
    },
    {
      "metadata": {
        "id": "DcVtl5KE93p-",
        "colab_type": "code",
        "colab": {}
      },
      "cell_type": "code",
      "source": [
        "#!python torchdiffeq/examples/ode_demo.py "
      ],
      "execution_count": 0,
      "outputs": []
    },
    {
      "metadata": {
        "id": "3m-mkO4XfhtZ",
        "colab_type": "text"
      },
      "cell_type": "markdown",
      "source": [
        "#Preliminaries, importing, intialising ODE and solving it for real Y values"
      ]
    },
    {
      "metadata": {
        "id": "pMETiTv5-Ilm",
        "colab_type": "code",
        "colab": {}
      },
      "cell_type": "code",
      "source": [
        "import os\n",
        "import time\n",
        "import numpy as np\n",
        "import matplotlib.pyplot as plt\n",
        "\n",
        "import torch\n",
        "import torch.nn as nn\n",
        "import torch.optim as optim"
      ],
      "execution_count": 0,
      "outputs": []
    },
    {
      "metadata": {
        "id": "vzaQ3SATUcp5",
        "colab_type": "code",
        "colab": {}
      },
      "cell_type": "code",
      "source": [
        "from torchdiffeq.torchdiffeq import odeint_adjoint as odeint\n",
        "\n",
        "device = torch.device(\"cuda\" if torch.cuda.is_available() else \"cpu\")"
      ],
      "execution_count": 0,
      "outputs": []
    },
    {
      "metadata": {
        "id": "0LQvmyLtesKl",
        "colab_type": "code",
        "colab": {}
      },
      "cell_type": "code",
      "source": [
        "data_size =1000\n",
        "batch_size =20\n",
        "batch_time =10"
      ],
      "execution_count": 0,
      "outputs": []
    },
    {
      "metadata": {
        "id": "9W5_x7DgVTz9",
        "colab_type": "code",
        "colab": {}
      },
      "cell_type": "code",
      "source": [
        "true_y0 = torch.tensor([[2., 0.]]) #init conds\n",
        "t = torch.linspace(0., 25., data_size)\n",
        "true_A = torch.tensor([[-0.1, 2.0], [-2.0, -0.1]]) # defining system of diff equations"
      ],
      "execution_count": 0,
      "outputs": []
    },
    {
      "metadata": {
        "id": "9qBLPPBIsUbw",
        "colab_type": "code",
        "outputId": "1c2df8f1-fd30-4d1b-fa03-4ca64b6b2f44",
        "colab": {
          "base_uri": "https://localhost:8080/",
          "height": 34
        }
      },
      "cell_type": "code",
      "source": [
        "b= torch.tensor([[1.0,1.0]])\n",
        "torch.mm(b**3,true_A)\n",
        "# b is 1x2 and true_A is 2x2 thus output is 1x2, just a recap of matrix multiplication"
      ],
      "execution_count": 0,
      "outputs": [
        {
          "output_type": "execute_result",
          "data": {
            "text/plain": [
              "tensor([[-2.1000,  1.9000]])"
            ]
          },
          "metadata": {
            "tags": []
          },
          "execution_count": 9
        }
      ]
    },
    {
      "metadata": {
        "id": "lvDtdO6BWzgv",
        "colab_type": "code",
        "colab": {}
      },
      "cell_type": "code",
      "source": [
        "class Lambda(nn.Module):\n",
        "\n",
        "    def forward(self, t, y):\n",
        "        return torch.mm(y**3, true_A)"
      ],
      "execution_count": 0,
      "outputs": []
    },
    {
      "metadata": {
        "id": "AmGHJixFob3A",
        "colab_type": "text"
      },
      "cell_type": "markdown",
      "source": [
        "diff eqns:\n",
        "\n",
        "d(y1)/dt = -0.1*(y1^3) -2*(y2^3) \n",
        "\n",
        "d(y2)/dt = 2*(y1^3) -0.1*(y2^3)\n",
        "\n",
        "i.e.\n",
        "\n",
        "[y1', y2'] = [y1^3 , y2^3] * [ [-0.1, 2], [-2, 0.1] ]"
      ]
    },
    {
      "metadata": {
        "id": "-xWGuPm6YZDE",
        "colab_type": "code",
        "colab": {}
      },
      "cell_type": "code",
      "source": [
        "with torch.no_grad():\n",
        "    true_y = odeint(Lambda(), true_y0, t, method='dopri5')\n",
        "#literally solves the ode for the true vals, we'll use these later in the loss function to train a neural net to predict this solution to an ODE"
      ],
      "execution_count": 0,
      "outputs": []
    },
    {
      "metadata": {
        "id": "aQhgf3WAc4WE",
        "colab_type": "code",
        "outputId": "4382644f-3815-4290-e75d-0472903afd98",
        "colab": {
          "base_uri": "https://localhost:8080/",
          "height": 247
        }
      },
      "cell_type": "code",
      "source": [
        "true_y"
      ],
      "execution_count": 0,
      "outputs": [
        {
          "output_type": "execute_result",
          "data": {
            "text/plain": [
              "tensor([[[ 2.0000,  0.0000]],\n",
              "\n",
              "        [[ 1.9795,  0.3944]],\n",
              "\n",
              "        [[ 1.9494,  0.7742]],\n",
              "\n",
              "        ...,\n",
              "\n",
              "        [[-0.4418,  0.2883]],\n",
              "\n",
              "        [[-0.4427,  0.2839]],\n",
              "\n",
              "        [[-0.4436,  0.2795]]])"
            ]
          },
          "metadata": {
            "tags": []
          },
          "execution_count": 113
        }
      ]
    },
    {
      "metadata": {
        "id": "gPswnQwkcbSW",
        "colab_type": "code",
        "outputId": "633559cf-16a2-4006-ead8-92f034513a60",
        "colab": {
          "base_uri": "https://localhost:8080/",
          "height": 364
        }
      },
      "cell_type": "code",
      "source": [
        "plt.figure()\n",
        "plt.plot(t.numpy(), true_y[:,:, 0].numpy(), label='y1')\n",
        "plt.plot(t.numpy(), true_y[:,:, 1].numpy(), label='y2')\n",
        "plt.legend()"
      ],
      "execution_count": 0,
      "outputs": [
        {
          "output_type": "execute_result",
          "data": {
            "text/plain": [
              "<matplotlib.legend.Legend at 0x7f744c226b00>"
            ]
          },
          "metadata": {
            "tags": []
          },
          "execution_count": 12
        },
        {
          "output_type": "display_data",
          "data": {
            "image/png": "[encoded data removed]",
            "text/plain": [
              "<Figure size 576x396 with 1 Axes>"
            ]
          },
          "metadata": {
            "tags": []
          }
        }
      ]
    },
    {
      "metadata": {
        "id": "VCPKIBKIjFlr",
        "colab_type": "text"
      },
      "cell_type": "markdown",
      "source": [
        "#Familiarizing with matrix operations and shapes required in creating batches to train eventually\n",
        "## This is just for a deeper understanding, feel free to skip to def get_batch():"
      ]
    },
    {
      "metadata": {
        "id": "3N67OiVsR7CJ",
        "colab_type": "code",
        "outputId": "58f65911-304f-4369-8068-1459acf65b55",
        "colab": {
          "base_uri": "https://localhost:8080/",
          "height": 34
        }
      },
      "cell_type": "code",
      "source": [
        "true_y.shape"
      ],
      "execution_count": 0,
      "outputs": [
        {
          "output_type": "execute_result",
          "data": {
            "text/plain": [
              "torch.Size([1000, 1, 2])"
            ]
          },
          "metadata": {
            "tags": []
          },
          "execution_count": 115
        }
      ]
    },
    {
      "metadata": {
        "id": "tpwakIGOdqud",
        "colab_type": "code",
        "outputId": "c88b5064-bcee-4183-c13c-3fdbc330232f",
        "colab": {
          "base_uri": "https://localhost:8080/",
          "height": 176
        }
      },
      "cell_type": "code",
      "source": [
        "true_y[[0,1,2,3,4]] #first 5 y values"
      ],
      "execution_count": 0,
      "outputs": [
        {
          "output_type": "execute_result",
          "data": {
            "text/plain": [
              "tensor([[[2.0000, 0.0000]],\n",
              "\n",
              "        [[1.9795, 0.3944]],\n",
              "\n",
              "        [[1.9494, 0.7742]],\n",
              "\n",
              "        [[1.8867, 1.1273]],\n",
              "\n",
              "        [[1.7639, 1.4297]]])"
            ]
          },
          "metadata": {
            "tags": []
          },
          "execution_count": 116
        }
      ]
    },
    {
      "metadata": {
        "id": "B7haSok2fJSV",
        "colab_type": "code",
        "outputId": "466cbcb3-0623-4a3f-d8ce-c072bde73aca",
        "colab": {
          "base_uri": "https://localhost:8080/",
          "height": 34
        }
      },
      "cell_type": "code",
      "source": [
        "#This cell is just dedicated to understand individual operations in the future cell\n",
        "s = torch.from_numpy(np.random.choice(np.arange(data_size - batch_time, dtype=np.int64), batch_size, replace=False))\n",
        "#s #size 20 \n",
        "batch_y0=true_y[s]\n",
        "batch_y0.shape #size 20x1x2 i.e. sampled 20 random pts from (1000-10 = 990) true y vals"
      ],
      "execution_count": 0,
      "outputs": [
        {
          "output_type": "execute_result",
          "data": {
            "text/plain": [
              "torch.Size([20, 1, 2])"
            ]
          },
          "metadata": {
            "tags": []
          },
          "execution_count": 117
        }
      ]
    },
    {
      "metadata": {
        "id": "isj0xdqOTxgg",
        "colab_type": "code",
        "outputId": "feb4f6d7-d683-456f-b4f0-459e0aafab5f",
        "colab": {
          "base_uri": "https://localhost:8080/",
          "height": 52
        }
      },
      "cell_type": "code",
      "source": [
        "batch_t = t[:batch_time] # (T)\n",
        "batch_t #size 10 \n",
        "# just first 10 time axis - points out of 1000"
      ],
      "execution_count": 0,
      "outputs": [
        {
          "output_type": "execute_result",
          "data": {
            "text/plain": [
              "tensor([0.0000, 0.0250, 0.0501, 0.0751, 0.1001, 0.1251, 0.1502, 0.1752, 0.2002,\n",
              "        0.2252])"
            ]
          },
          "metadata": {
            "tags": []
          },
          "execution_count": 118
        }
      ]
    },
    {
      "metadata": {
        "id": "Ct7A0CEQUCQl",
        "colab_type": "code",
        "outputId": "d0fb0cf8-26fc-49bd-8a28-506014647174",
        "colab": {
          "base_uri": "https://localhost:8080/",
          "height": 34
        }
      },
      "cell_type": "code",
      "source": [
        "batch_y = torch.stack([true_y[s + i] for i in range(batch_time)], dim=0) # (T, M, D)\n",
        "batch_y.shape"
      ],
      "execution_count": 0,
      "outputs": [
        {
          "output_type": "execute_result",
          "data": {
            "text/plain": [
              "torch.Size([10, 20, 1, 2])"
            ]
          },
          "metadata": {
            "tags": []
          },
          "execution_count": 119
        }
      ]
    },
    {
      "metadata": {
        "id": "dMCo21Go6Vm3",
        "colab_type": "code",
        "outputId": "c58ca2a1-0060-4b78-c360-4dadd06f1ffc",
        "colab": {
          "base_uri": "https://localhost:8080/",
          "height": 364
        }
      },
      "cell_type": "code",
      "source": [
        "#visualise\n",
        "batch_of20 = np.arange(batch_size)\n",
        "t_sample=[]\n",
        "batch_sample=[]\n",
        "\n",
        "for i in batch_of20:\n",
        "  t_sample = np.append(t_sample, t[s[i].item() : s[i].item() + batch_time].numpy())\n",
        "  batch_sample = np.append(batch_sample, batch_y[:,i,0,0].numpy())\n",
        "\n",
        "\n",
        "plt.figure()\n",
        "plt.plot(t_sample, batch_sample , 'bo', label='sampled' )\n",
        "plt.legend()"
      ],
      "execution_count": 0,
      "outputs": [
        {
          "output_type": "execute_result",
          "data": {
            "text/plain": [
              "<matplotlib.legend.Legend at 0x7ff5aaf28588>"
            ]
          },
          "metadata": {
            "tags": []
          },
          "execution_count": 126
        },
        {
          "output_type": "display_data",
          "data": {
            "image/png": "[encoded data removed]",
            "text/plain": [
              "<Figure size 576x396 with 1 Axes>"
            ]
          },
          "metadata": {
            "tags": []
          }
        }
      ]
    },
    {
      "metadata": {
        "id": "VSvBW8m_jtXF",
        "colab_type": "text"
      },
      "cell_type": "markdown",
      "source": [
        "# Writing Neural net architecture using Neural ODEs and training it!"
      ]
    },
    {
      "metadata": {
        "id": "lnY-tXZeeAJW",
        "colab_type": "code",
        "colab": {}
      },
      "cell_type": "code",
      "source": [
        "def get_batch():\n",
        "  s = torch.from_numpy(np.random.choice(np.arange(data_size - batch_time, dtype=np.int64), batch_size, replace=False))\n",
        "  batch_y0 = true_y[s] # (M, D)\n",
        "  batch_t = t[:batch_time] # (T)\n",
        "  batch_y = torch.stack([true_y[s + i] for i in range(batch_time)], dim=0)  # (T, M, D)\n",
        "  return batch_y0, batch_t, batch_y\n"
      ],
      "execution_count": 0,
      "outputs": []
    },
    {
      "metadata": {
        "id": "EovBtMmXubOU",
        "colab_type": "code",
        "colab": {}
      },
      "cell_type": "code",
      "source": [
        "class ODEFunc(nn.Module):\n",
        "\n",
        "    def __init__(self):\n",
        "        super(ODEFunc, self).__init__()\n",
        "\n",
        "        self.net = nn.Sequential(\n",
        "            nn.Linear(2, 50),\n",
        "            nn.Tanh(),\n",
        "            nn.Linear(50, 2),\n",
        "        )\n",
        "        \n",
        "        # 2 i/p and o/p coz system of 2 eqnns\n",
        "\n",
        "        for m in self.net.modules():\n",
        "            if isinstance(m, nn.Linear):\n",
        "                nn.init.normal_(m.weight, mean=0, std=0.1)\n",
        "                nn.init.constant_(m.bias, val=0)\n",
        "\n",
        "    def forward(self, t, y): # Note that forward pass has time t as input as well, as compared to regular neural nets!\n",
        "        return self.net(y**3)\n",
        "\n",
        "  "
      ],
      "execution_count": 0,
      "outputs": []
    },
    {
      "metadata": {
        "id": "X4LsHp28mPcp",
        "colab_type": "code",
        "colab": {}
      },
      "cell_type": "code",
      "source": [
        "class RunningAverageMeter(object):\n",
        "    \"\"\"Computes and stores the average and current value\"\"\"\n",
        "\n",
        "    def __init__(self, momentum=0.99):\n",
        "        self.momentum = momentum\n",
        "        self.reset()\n",
        "\n",
        "    def reset(self):\n",
        "        self.val = None\n",
        "        self.avg = 0\n",
        "\n",
        "    def update(self, val):\n",
        "        if self.val is None:\n",
        "            self.avg = val\n",
        "        else:\n",
        "            self.avg = self.avg * self.momentum + val * (1 - self.momentum)\n",
        "            self.val = val"
      ],
      "execution_count": 0,
      "outputs": []
    },
    {
      "metadata": {
        "id": "7lXQ-qOao_la",
        "colab_type": "code",
        "outputId": "387be107-069f-4bfe-a353-faf2d26954b5",
        "colab": {
          "base_uri": "https://localhost:8080/",
          "height": 1794
        }
      },
      "cell_type": "code",
      "source": [
        "ii = 0\n",
        "test_freq=20\n",
        "niters=2000\n",
        "func = ODEFunc()\n",
        "optimizer = optim.RMSprop(func.parameters(), lr=1e-3)\n",
        "end = time.time()\n",
        "\n",
        "time_meter = RunningAverageMeter(0.97)\n",
        "loss_meter = RunningAverageMeter(0.97)\n",
        "\n",
        "for itr in range(1, niters + 1):\n",
        "    optimizer.zero_grad()\n",
        "    batch_y0, batch_t, batch_y = get_batch()\n",
        "    pred_y = odeint(func, batch_y0, batch_t)    #passing class ODEFunc which is of type nn.module as diff eq to solve using odeint\n",
        "    loss = torch.mean(torch.abs(pred_y - batch_y))\n",
        "    loss.backward()\n",
        "    optimizer.step()\n",
        "\n",
        "    time_meter.update(time.time() - end)\n",
        "    loss_meter.update(loss.item())\n",
        "\n",
        "    if itr % test_freq == 0:\n",
        "          with torch.no_grad():\n",
        "              pred_y = odeint(func, true_y0, t)\n",
        "              loss = torch.mean(torch.abs(pred_y - true_y))\n",
        "              print('Iter {:04d} | Total Loss {:.6f}'.format(itr, loss.item()))\n",
        "              ii += 1\n",
        "\n",
        "    end = time.time()"
      ],
      "execution_count": 0,
      "outputs": [
        {
          "output_type": "stream",
          "text": [
            "Iter 0020 | Total Loss 0.675882\n",
            "Iter 0040 | Total Loss 0.659509\n",
            "Iter 0060 | Total Loss 0.590153\n",
            "Iter 0080 | Total Loss 0.400313\n",
            "Iter 0100 | Total Loss 0.756425\n",
            "Iter 0120 | Total Loss 0.816617\n",
            "Iter 0140 | Total Loss 0.456125\n",
            "Iter 0160 | Total Loss 0.416209\n",
            "Iter 0180 | Total Loss 0.577256\n",
            "Iter 0200 | Total Loss 0.779983\n",
            "Iter 0220 | Total Loss 0.289838\n",
            "Iter 0240 | Total Loss 0.293863\n",
            "Iter 0260 | Total Loss 0.408011\n",
            "Iter 0280 | Total Loss 0.431037\n",
            "Iter 0300 | Total Loss 0.191076\n",
            "Iter 0320 | Total Loss 0.643463\n",
            "Iter 0340 | Total Loss 0.180766\n",
            "Iter 0360 | Total Loss 0.228136\n",
            "Iter 0380 | Total Loss 0.542087\n",
            "Iter 0400 | Total Loss 0.178996\n",
            "Iter 0420 | Total Loss 0.480825\n",
            "Iter 0440 | Total Loss 0.363515\n",
            "Iter 0460 | Total Loss 0.419496\n",
            "Iter 0480 | Total Loss 0.147032\n",
            "Iter 0500 | Total Loss 0.342559\n",
            "Iter 0520 | Total Loss 0.395337\n",
            "Iter 0540 | Total Loss 0.217566\n",
            "Iter 0560 | Total Loss 0.183632\n",
            "Iter 0580 | Total Loss 0.189132\n",
            "Iter 0600 | Total Loss 0.535295\n",
            "Iter 0620 | Total Loss 0.403465\n",
            "Iter 0640 | Total Loss 0.119893\n",
            "Iter 0660 | Total Loss 0.564146\n",
            "Iter 0680 | Total Loss 0.327121\n",
            "Iter 0700 | Total Loss 0.446645\n",
            "Iter 0720 | Total Loss 0.525751\n",
            "Iter 0740 | Total Loss 0.263653\n",
            "Iter 0760 | Total Loss 0.360189\n",
            "Iter 0780 | Total Loss 0.229895\n",
            "Iter 0800 | Total Loss 0.422536\n",
            "Iter 0820 | Total Loss 0.347208\n",
            "Iter 0840 | Total Loss 0.099477\n",
            "Iter 0860 | Total Loss 0.141011\n",
            "Iter 0880 | Total Loss 0.170286\n",
            "Iter 0900 | Total Loss 0.751603\n",
            "Iter 0920 | Total Loss 0.722313\n",
            "Iter 0940 | Total Loss 0.328725\n",
            "Iter 0960 | Total Loss 0.529409\n",
            "Iter 0980 | Total Loss 0.527258\n",
            "Iter 1000 | Total Loss 0.716296\n",
            "Iter 1020 | Total Loss 0.465726\n",
            "Iter 1040 | Total Loss 0.277089\n",
            "Iter 1060 | Total Loss 0.165541\n",
            "Iter 1080 | Total Loss 0.428762\n",
            "Iter 1100 | Total Loss 0.138444\n",
            "Iter 1120 | Total Loss 0.220773\n",
            "Iter 1140 | Total Loss 0.327394\n",
            "Iter 1160 | Total Loss 0.355003\n",
            "Iter 1180 | Total Loss 0.259775\n",
            "Iter 1200 | Total Loss 0.137550\n",
            "Iter 1220 | Total Loss 0.132894\n",
            "Iter 1240 | Total Loss 0.593464\n",
            "Iter 1260 | Total Loss 0.147510\n",
            "Iter 1280 | Total Loss 0.337060\n",
            "Iter 1300 | Total Loss 0.353052\n",
            "Iter 1320 | Total Loss 0.516674\n",
            "Iter 1340 | Total Loss 0.529066\n",
            "Iter 1360 | Total Loss 0.175170\n",
            "Iter 1380 | Total Loss 0.672875\n",
            "Iter 1400 | Total Loss 0.196247\n",
            "Iter 1420 | Total Loss 0.364544\n",
            "Iter 1440 | Total Loss 0.340510\n",
            "Iter 1460 | Total Loss 0.337125\n",
            "Iter 1480 | Total Loss 0.551219\n",
            "Iter 1500 | Total Loss 0.095391\n",
            "Iter 1520 | Total Loss 0.736394\n",
            "Iter 1540 | Total Loss 0.262882\n",
            "Iter 1560 | Total Loss 0.363140\n",
            "Iter 1580 | Total Loss 0.678706\n",
            "Iter 1600 | Total Loss 0.101951\n",
            "Iter 1620 | Total Loss 0.525223\n",
            "Iter 1640 | Total Loss 0.736764\n",
            "Iter 1660 | Total Loss 0.207367\n",
            "Iter 1680 | Total Loss 0.134838\n",
            "Iter 1700 | Total Loss 0.551162\n",
            "Iter 1720 | Total Loss 0.225606\n",
            "Iter 1740 | Total Loss 0.479992\n",
            "Iter 1760 | Total Loss 0.148377\n",
            "Iter 1780 | Total Loss 0.522910\n",
            "Iter 1800 | Total Loss 0.059119\n",
            "Iter 1820 | Total Loss 0.740609\n",
            "Iter 1840 | Total Loss 0.151352\n",
            "Iter 1860 | Total Loss 0.726016\n",
            "Iter 1880 | Total Loss 0.447728\n",
            "Iter 1900 | Total Loss 0.175705\n",
            "Iter 1920 | Total Loss 0.382897\n",
            "Iter 1940 | Total Loss 0.423764\n",
            "Iter 1960 | Total Loss 0.662803\n",
            "Iter 1980 | Total Loss 0.428584\n",
            "Iter 2000 | Total Loss 0.065236\n"
          ],
          "name": "stdout"
        }
      ]
    },
    {
      "metadata": {
        "id": "T_h2zJWC58pk",
        "colab_type": "code",
        "outputId": "873055c3-f26e-43b0-911d-be609bb724b1",
        "colab": {
          "base_uri": "https://localhost:8080/",
          "height": 247
        }
      },
      "cell_type": "code",
      "source": [
        "pred_y = odeint(func, true_y0, t)\n",
        "pred_y.detach()"
      ],
      "execution_count": 0,
      "outputs": [
        {
          "output_type": "execute_result",
          "data": {
            "text/plain": [
              "tensor([[[ 2.0000,  0.0000]],\n",
              "\n",
              "        [[ 1.9861,  0.3158]],\n",
              "\n",
              "        [[ 1.9692,  0.6271]],\n",
              "\n",
              "        ...,\n",
              "\n",
              "        [[-0.4521,  0.2374]],\n",
              "\n",
              "        [[-0.4522,  0.2327]],\n",
              "\n",
              "        [[-0.4523,  0.2279]]])"
            ]
          },
          "metadata": {
            "tags": []
          },
          "execution_count": 76
        }
      ]
    },
    {
      "metadata": {
        "id": "PpUerI4284Bj",
        "colab_type": "code",
        "outputId": "e5033e8c-53b9-4842-dc0d-e5d6df51170b",
        "colab": {
          "base_uri": "https://localhost:8080/",
          "height": 382
        }
      },
      "cell_type": "code",
      "source": [
        "plt.figure()\n",
        "plt.plot(t.numpy(), true_y[:,:, 0].numpy(), 'b-')\n",
        "plt.plot(t.numpy(), pred_y[:,:, 0].detach().numpy(), 'r--')\n",
        "plt.legend()"
      ],
      "execution_count": 0,
      "outputs": [
        {
          "output_type": "stream",
          "text": [
            "No handles with labels found to put in legend.\n"
          ],
          "name": "stderr"
        },
        {
          "output_type": "execute_result",
          "data": {
            "text/plain": [
              "<matplotlib.legend.Legend at 0x7ff5a7278b00>"
            ]
          },
          "metadata": {
            "tags": []
          },
          "execution_count": 79
        },
        {
          "output_type": "display_data",
          "data": {
            "image/png": "[encoded data removed]",
            "text/plain": [
              "<Figure size 576x396 with 1 Axes>"
            ]
          },
          "metadata": {
            "tags": []
          }
        }
      ]
    },
    {
      "metadata": {
        "id": "oiT1xU2Ef5h_",
        "colab_type": "code",
        "outputId": "6957921e-bb9d-4e6a-c801-08afc5a5723b",
        "colab": {
          "base_uri": "https://localhost:8080/",
          "height": 364
        }
      },
      "cell_type": "code",
      "source": [
        "plt.figure()\n",
        "plt.plot(t.numpy(), true_y[:,:, 1].numpy(), 'g-',label='true' )\n",
        "plt.plot(t.numpy(), pred_y[:,:, 1].detach().numpy(),'r--',  label='approx' )\n",
        "plt.legend()"
      ],
      "execution_count": 0,
      "outputs": [
        {
          "output_type": "execute_result",
          "data": {
            "text/plain": [
              "<matplotlib.legend.Legend at 0x7ff5a71d4860>"
            ]
          },
          "metadata": {
            "tags": []
          },
          "execution_count": 80
        },
        {
          "output_type": "display_data",
          "data": {
            "image/png": "[encoded data removed]",
            "text/plain": [
              "<Figure size 576x396 with 1 Axes>"
            ]
          },
          "metadata": {
            "tags": []
          }
        }
      ]
    },
    {
      "metadata": {
        "id": "-W7D4UXAlqUE",
        "colab_type": "code",
        "colab": {}
      },
      "cell_type": "code",
      "source": [
        ""
      ],
      "execution_count": 0,
      "outputs": []
    }
  ]
}